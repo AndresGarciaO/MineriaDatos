{
  "nbformat": 4,
  "nbformat_minor": 0,
  "metadata": {
    "colab": {
      "name": "Tarea Ejercicios basicos de python.ipynb",
      "provenance": [],
      "authorship_tag": "ABX9TyPfx20wul2Ri4uC1zZ3BrIc",
      "include_colab_link": true
    },
    "kernelspec": {
      "name": "python3",
      "display_name": "Python 3"
    },
    "language_info": {
      "name": "python"
    }
  },
  "cells": [
    {
      "cell_type": "markdown",
      "metadata": {
        "id": "view-in-github",
        "colab_type": "text"
      },
      "source": [
        "<a href=\"https://colab.research.google.com/github/AndresGarciaO/MineriaDatos/blob/main/Tarea_Ejercicios_basicos_de_python.ipynb\" target=\"_parent\"><img src=\"https://colab.research.google.com/assets/colab-badge.svg\" alt=\"Open In Colab\"/></a>"
      ]
    },
    {
      "cell_type": "markdown",
      "metadata": {
        "id": "1XLPrCBSl6RR"
      },
      "source": [
        "# **Ejercicio 1**\n",
        "\n",
        "Realiza una variable con tu matricula y realiza una secuencia de imprimir con tu nombre y tu matricula concatenados."
      ]
    },
    {
      "cell_type": "code",
      "metadata": {
        "colab": {
          "base_uri": "https://localhost:8080/"
        },
        "id": "v9WvlURXh4kB",
        "outputId": "6603d844-eff7-4f49-89dc-0b5c62ac1233"
      },
      "source": [
        "nombre= \"Jose Andres Garcia Ortega\"\n",
        "matricula= \"1941488\"\n",
        "\n",
        "print(nombre,matricula)"
      ],
      "execution_count": 38,
      "outputs": [
        {
          "output_type": "stream",
          "text": [
            "Jose Andres Garcia Ortega 1941488\n"
          ],
          "name": "stdout"
        }
      ]
    },
    {
      "cell_type": "markdown",
      "metadata": {
        "id": "NPiz_3Idwz8W"
      },
      "source": [
        "# **Ejercicio 2:**\n",
        "\n",
        "Pidiendo el input del usuario pide dos números y crea una pequeña calculadora con los operadores básicos de suma, resta, multiplicación, división, y exponente."
      ]
    },
    {
      "cell_type": "code",
      "metadata": {
        "colab": {
          "base_uri": "https://localhost:8080/"
        },
        "id": "dj1haagUw5ZF",
        "outputId": "186792d4-e201-4968-a2cf-c5cc7c7df87c"
      },
      "source": [
        "def Calculadora():\n",
        "    print(\"\\n\\nCalculadora\\n 1)Suma\\n 2)Resta\\n 3)Multiplicacion\\n 4)Division\\n 5)Exponencial\\n 0)Salir\")\n",
        "val=0\n",
        "while val != 6 :\n",
        "    Calculadora()\n",
        "    val=int(input(\"Introduzca la opcion deseada: \"))\n",
        "    if val == 0 :\n",
        "        break\n",
        "    if  val>=6:\n",
        "        print(\"Favor de introducir una opcion valida\")\n",
        "        Calculadora()\n",
        "        val=int(input(\"Introduzca la opcion deseada: \"))    \n",
        "    a=float(input(\"Introduzca el primer valor: \"))\n",
        "    b=float(input(\"Indroduzca el segundo valor: \"))\n",
        "    \n",
        "    if val==1:\n",
        "        print(\"El resultado es\", a+b)\n",
        "    elif val==2:\n",
        "        print(\"El resultado es\", a-b)\n",
        "    elif val==3:\n",
        "        print(\"El resultado es \", a*b)\n",
        "    elif val==4:\n",
        "        if a2==0:\n",
        "             print(\"Valores no validos\")\n",
        "        else:\n",
        "             print(\"El resultado es \", a/b)\n",
        "    elif val==5 :\n",
        "        print(\"El resultado es \", a**b)\n",
        "    else:\n",
        "        print(\"Favor de introducir una opcion valida\")"
      ],
      "execution_count": 44,
      "outputs": [
        {
          "output_type": "stream",
          "text": [
            "\n",
            "\n",
            "Calculadora\n",
            " 1)Suma\n",
            " 2)Resta\n",
            " 3)Multiplicacion\n",
            " 4)Division\n",
            " 5)Exponencial\n",
            " 0)Salir\n",
            "Introduzca la opcion deseada: 3\n",
            "Introduzca el primer valor: 7\n",
            "Indroduzca el segundo valor: 10\n",
            "El resultado es  70.0\n",
            "\n",
            "\n",
            "Calculadora\n",
            " 1)Suma\n",
            " 2)Resta\n",
            " 3)Multiplicacion\n",
            " 4)Division\n",
            " 5)Exponencial\n",
            " 0)Salir\n",
            "Introduzca la opcion deseada: 0\n"
          ],
          "name": "stdout"
        }
      ]
    },
    {
      "cell_type": "markdown",
      "metadata": {
        "id": "PXJ-dSkfzi74"
      },
      "source": [
        "# **Ejercicio 3:**\n",
        "\n",
        "Con loop while o for, realiza una lista de 10 numeros multiplos de 3, y después realiza una función de loop que sume todos los números dentro del arreglo."
      ]
    },
    {
      "cell_type": "code",
      "metadata": {
        "colab": {
          "base_uri": "https://localhost:8080/"
        },
        "id": "DSKX0mxIz0pK",
        "outputId": "0be8f7bf-a04a-4285-942f-df8271ace347"
      },
      "source": [
        "x=3\n",
        "su=0\n",
        "ac=0\n",
        "mul= []\n",
        "while ac < 10:\n",
        "    if x%3==0:\n",
        "        mul.append(x)\n",
        "        su = su + x\n",
        "        ac = ac + 1\n",
        "    x=x+1\n",
        "print(\"Los multiplos del 3 son: \", mul)\n",
        "print(\"Suma de los multiplos : \", su)"
      ],
      "execution_count": 27,
      "outputs": [
        {
          "output_type": "stream",
          "text": [
            "Los multiplos del 3 son:  [3, 6, 9, 12, 15, 18, 21, 24, 27, 30]\n",
            "Suma de los multiplos :  165\n"
          ],
          "name": "stdout"
        }
      ]
    },
    {
      "cell_type": "markdown",
      "metadata": {
        "id": "AGNW0jq-3KVj"
      },
      "source": [
        "# **Ejercicio 4**\n",
        "\n",
        "* Con una función de if else, revisar si un número es par o es impar.\n",
        "\n",
        "* Con una función de if else, revisar si un número es primo o no."
      ]
    },
    {
      "cell_type": "code",
      "metadata": {
        "colab": {
          "base_uri": "https://localhost:8080/"
        },
        "id": "rn31NwTJ3gVr",
        "outputId": "28c63e47-18a9-4b39-91a0-a68dc6c4b57d"
      },
      "source": [
        "print(\"\\nSaber si un numero es par o impar y tambien si es primo o no.\")\n",
        "val=int(input(\"Introduzcca un numero: \"))\n",
        "if(val%2==0):\n",
        "    x=0\n",
        "else:\n",
        "    x=1\n",
        "pri=0\n",
        "for n in range (1, val+1):\n",
        "    if val%n==0:\n",
        "        pri=pri+1\n",
        "if pri==2:\n",
        "    if x==0:\n",
        "      print(\"\\n\",\"El numero \",val,\" es par y es un número primo.\")\n",
        "    else:\n",
        "      print(\"\\n\",\"El numero \",val,\" es impar y es un número primo.\")\n",
        "else:\n",
        "    if x==0:\n",
        "      print(\"\\n\",\"El numero \",val,\" es par y no es un número primo.\")\n",
        "    else:\n",
        "      print(\"\\n\",\"El numero \",val,\" es impar y no es un número primo.\")"
      ],
      "execution_count": 36,
      "outputs": [
        {
          "output_type": "stream",
          "text": [
            "\n",
            "Saber si un numero es par o impar y tambien si es primo o no.\n",
            "Introduzcca un numero: 89\n",
            "\n",
            " El numero  89  es impar y es un número primo.\n"
          ],
          "name": "stdout"
        }
      ]
    },
    {
      "cell_type": "markdown",
      "metadata": {
        "id": "tTfkKCSm9VV5"
      },
      "source": [
        "# **Ejercicio 5**\n",
        "\n",
        "Utilizando diferentes clases en python, crea una calculadora con los operadores básicos de suma, resta, multiplicación, división, y exponente."
      ]
    },
    {
      "cell_type": "code",
      "metadata": {
        "colab": {
          "base_uri": "https://localhost:8080/"
        },
        "id": "txJobOMu9lbx",
        "outputId": "6e9c08ce-09d2-48af-c335-9742c2654e66"
      },
      "source": [
        "class Calculadora:\n",
        "    def sumar(self, a, b):\n",
        "        print ('El resultado de la suma es : '+str((a+b)) )\n",
        "    def restar(self, a, b):\n",
        "        print ('El resultado de la resta es : '+str((a-b)) )\n",
        "    def multiplicar(self, a, b):\n",
        "        print ('El resultado de la multiplicacion es : '+str((a*b)) )\n",
        "    def dividir(self, a, b):\n",
        "        print ('El resultado de la division es : '+str((a/b)) )\n",
        "    def exponente(self, a, b):\n",
        "        print ('El resultado de elevar a una potencia es : '+str((a**b)) )\n",
        "print(\"Calculadora\")\n",
        "cal= Calculadora()\n",
        "def menu():\n",
        "    print(\"\\nOperaciones\\n1) Sumar\\n2) Restar\\n3) Multiplicar\\n4) Dividir\\n5) Exponentes\\n6) Salir\")\n",
        "    return int(input('Introduce una opcion: '))\n",
        "while(True):\n",
        "    opcion= menu()\n",
        "    if(opcion==6):\n",
        "        break\n",
        "    else:\n",
        "        num1= int(input('Ingresa el primer numero: '))\n",
        "        num2= int(input('Ingresa el segundo numero: '))\n",
        "        if(opcion==1):\n",
        "            cal.sumar(num1, num2)\n",
        "        elif(opcion==2):\n",
        "            cal.restar(num1, num2)\n",
        "        elif(opcion==3):\n",
        "            cal.multiplicar(num1, num2)\n",
        "        elif(opcion==4):\n",
        "            cal.dividir(num1, num2)\n",
        "        elif(opcion==5):\n",
        "            cal.exponente(num1, num2)\n",
        "        else:\n",
        "            print('Opción no valida')"
      ],
      "execution_count": 43,
      "outputs": [
        {
          "output_type": "stream",
          "text": [
            "Calculadora\n",
            "\n",
            "Operaciones\n",
            "1) Sumar\n",
            "2) Restar\n",
            "3) Multiplicar\n",
            "4) Dividir\n",
            "5) Exponentes\n",
            "6) Salir\n",
            "Introduce una opcion: 3\n",
            "Ingresa el primer numero: 7\n",
            "Ingresa el segundo numero: 8\n",
            "El resultado de la multiplicacion es : 56\n",
            "\n",
            "Operaciones\n",
            "1) Sumar\n",
            "2) Restar\n",
            "3) Multiplicar\n",
            "4) Dividir\n",
            "5) Exponentes\n",
            "6) Salir\n",
            "Introduce una opcion: 6\n"
          ],
          "name": "stdout"
        }
      ]
    },
    {
      "cell_type": "markdown",
      "metadata": {
        "id": "lGC_PGD7Bxrb"
      },
      "source": [
        "# **Tuplas**\n",
        "\n",
        "* Crear una variable flotante, integer, boleana y compleja e imprimir el tipo de variable que es."
      ]
    },
    {
      "cell_type": "code",
      "metadata": {
        "colab": {
          "base_uri": "https://localhost:8080/"
        },
        "id": "1knPot5SCPPi",
        "outputId": "810d84ba-eab3-44a9-c49c-a9e7d854325c"
      },
      "source": [
        "x=12.05\n",
        "var1=type(x)\n",
        "y=12\n",
        "var2=type(y)\n",
        "IscodingFun=True \n",
        "var3=type(IscodingFun)\n",
        "Com=247+3j \n",
        "var4=type(Com)\n",
        "print(\"La variable \",x, \" es de tipo\",var1)\n",
        "print(\"La variable \",y, \" es de tipo\", var2)\n",
        "print(\"La variable \",IscodingFun,\" es de tipo\",var3)\n",
        "print(\"La variable \", Com, \" es de tipo\", var4)"
      ],
      "execution_count": 47,
      "outputs": [
        {
          "output_type": "stream",
          "text": [
            "La variable  12.05  es de tipo <class 'float'>\n",
            "La variable  12  es de tipo <class 'int'>\n",
            "La variable  True  es de tipo <class 'bool'>\n",
            "La variable  (247+3j)  es de tipo <class 'complex'>\n"
          ],
          "name": "stdout"
        }
      ]
    },
    {
      "cell_type": "markdown",
      "metadata": {
        "id": "wVY_pcIHIWmQ"
      },
      "source": [
        "* Crear una tupla con valores enteros imprimir el primer y ultimo valor."
      ]
    },
    {
      "cell_type": "code",
      "metadata": {
        "colab": {
          "base_uri": "https://localhost:8080/"
        },
        "id": "IhizZGRtIc6J",
        "outputId": "80ef827f-4836-4f28-e271-ef434f07e2a8"
      },
      "source": [
        "tupla = (1,2,3,4,5)\n",
        "print(\"El primer valor de la tupla es:\",tupla[0], \"y el último es:\",tupla[4],\"\\n\")"
      ],
      "execution_count": 48,
      "outputs": [
        {
          "output_type": "stream",
          "text": [
            "El primer valor de la tupla es: 1 y el último es: 5 \n",
            "\n"
          ],
          "name": "stdout"
        }
      ]
    },
    {
      "cell_type": "markdown",
      "metadata": {
        "id": "y4iiE-aZIse7"
      },
      "source": [
        "* Añadir 3 valores de string a la tupla."
      ]
    },
    {
      "cell_type": "code",
      "metadata": {
        "colab": {
          "base_uri": "https://localhost:8080/"
        },
        "id": "MxKhB8IfI9RY",
        "outputId": "49f3408d-3992-4ff6-e914-746b15b68683"
      },
      "source": [
        "print(\"¿Que valores desea añadir a la tupla\")\n",
        "val1= str(input('Ingresa el primer valor: '))\n",
        "val2= str(input('Ingresa el segundo valor: '))\n",
        "val3= str(input('Ingresa el tercer valor: '))\n",
        "tupla=(val1,val2,val3,12,67,103)\n",
        "print(tupla)"
      ],
      "execution_count": 49,
      "outputs": [
        {
          "output_type": "stream",
          "text": [
            "¿Que valores desea añadir a la tupla\n",
            "Ingresa el primer valor: 1\n",
            "Ingresa el segundo valor: 6\n",
            "Ingresa el tercer valor: 10\n",
            "('1', '6', '10', 12, 67, 103)\n"
          ],
          "name": "stdout"
        }
      ]
    },
    {
      "cell_type": "markdown",
      "metadata": {
        "id": "uBwP_I48JbET"
      },
      "source": [
        "* Verificar si una variable existe dentro de la tupla."
      ]
    },
    {
      "cell_type": "code",
      "metadata": {
        "colab": {
          "base_uri": "https://localhost:8080/"
        },
        "id": "tgDgUso_J78W",
        "outputId": "111d45f6-178b-4b14-88a0-a3c6dfaf8136"
      },
      "source": [
        "tupla=(1,2,3,4,5)\n",
        "x=int(input(\"Ingrese un numero a buscar:\"))\n",
        "if ((x in tupla)==True):\n",
        "    print(\"Numero encontrado en la tupla\")\n",
        "else:\n",
        "    print(\"Nmero no encontrado en la tupla\")"
      ],
      "execution_count": 52,
      "outputs": [
        {
          "output_type": "stream",
          "text": [
            "Ingrese un numero a buscar:2\n",
            "numero encontrado en la tupla\n"
          ],
          "name": "stdout"
        }
      ]
    },
    {
      "cell_type": "markdown",
      "metadata": {
        "id": "46yB2I_fKtov"
      },
      "source": [
        "# **Listas**\n",
        "* Crear una lista con 40 elementos aleatorios enteros.\n"
      ]
    },
    {
      "cell_type": "code",
      "metadata": {
        "colab": {
          "base_uri": "https://localhost:8080/"
        },
        "id": "xzFizVJZK4jm",
        "outputId": "8907ff9f-cc53-4101-8e2a-97fdeb25bcb6"
      },
      "source": [
        "import random\n",
        "lis=[random.randint(0,100) for i in range(40)]\n",
        "print(\"Los 40 elementos de la lista son:\\n\",lis)"
      ],
      "execution_count": 54,
      "outputs": [
        {
          "output_type": "stream",
          "text": [
            "Los 40 elementos de la lista son:\n",
            " [42, 83, 89, 3, 26, 58, 31, 62, 77, 78, 20, 36, 40, 24, 53, 95, 62, 7, 51, 88, 54, 37, 87, 86, 71, 49, 75, 74, 38, 98, 78, 23, 99, 61, 50, 63, 56, 18, 32, 65]\n"
          ],
          "name": "stdout"
        }
      ]
    },
    {
      "cell_type": "markdown",
      "metadata": {
        "id": "D-lMWX6KL7mK"
      },
      "source": [
        "* Con una funcion (def) crear dos listas nuevas a\n",
        "partir de la lista creada por numeros aleatorios, en la cual en una esten los elementos pares, y en la otra los elementos impares."
      ]
    },
    {
      "cell_type": "code",
      "metadata": {
        "colab": {
          "base_uri": "https://localhost:8080/"
        },
        "id": "9hIrtYmwMFrJ",
        "outputId": "0b1ab24b-2f17-4d17-c53b-108cb58e62a6"
      },
      "source": [
        "lista=[random.randint(0,100) for i in range(40)]\n",
        "lpar=[]\n",
        "limpar=[]\n",
        "def listas():\n",
        "    for i in range(40):\n",
        "        x=lista[i]%2\n",
        "        if x==0:\n",
        "            lpar.append(lista[i])\n",
        "        else:\n",
        "            limpar.append(lista[i])\n",
        "    print(\"La lista de numeros pares:\\n\",lpar)\n",
        "    print(\"La lista de numeros impares:\\n\",limpar)\n",
        "listas()"
      ],
      "execution_count": 62,
      "outputs": [
        {
          "output_type": "stream",
          "text": [
            "La lista de numeros pares:\n",
            " [80, 88, 58, 76, 90, 14, 70, 26, 26, 4, 48, 84, 88, 88, 56, 72, 78]\n",
            "La lista de numeros impares:\n",
            " [1, 83, 55, 91, 63, 73, 75, 11, 71, 41, 13, 79, 59, 75, 85, 49, 53, 49, 75, 83, 91, 9, 87]\n"
          ],
          "name": "stdout"
        }
      ]
    },
    {
      "cell_type": "markdown",
      "metadata": {
        "id": "l1Reu4ymNIy7"
      },
      "source": [
        "* Crear dos variables con la longitud de ambas listas nuevas e imprimir las variables."
      ]
    },
    {
      "cell_type": "code",
      "metadata": {
        "colab": {
          "base_uri": "https://localhost:8080/"
        },
        "id": "yhzBsjoNNOtc",
        "outputId": "45db6a3a-22dd-4002-968f-7c6dc16f7018"
      },
      "source": [
        "lpar= [80, 88, 58, 76, 90, 14, 70, 26, 26, 4, 48, 84, 88, 88, 56, 72, 78]\n",
        "limpar= [1, 83, 55, 91, 63, 73, 75, 11, 71, 41, 13, 79, 59, 75, 85, 49, 53, 49, 75, 83, 91, 9, 87]\n",
        "\n",
        "lon1=len(lpar)\n",
        "lon2=len(limpar)\n",
        "\n",
        "print(\"la longitud de la lista par es de\",lon1)\n",
        "print(\"la longitud de la lista impar es de\", lon2)"
      ],
      "execution_count": 63,
      "outputs": [
        {
          "output_type": "stream",
          "text": [
            "la longitud de la lista par es de 17\n",
            "la longitud de la lista impar es de 23\n"
          ],
          "name": "stdout"
        }
      ]
    },
    {
      "cell_type": "markdown",
      "metadata": {
        "id": "XefyFDCUOGyG"
      },
      "source": [
        "* Ordenar los elementos de la lista par de mayor a menor, y los de la lista impar de menor a mayor."
      ]
    },
    {
      "cell_type": "code",
      "metadata": {
        "colab": {
          "base_uri": "https://localhost:8080/"
        },
        "id": "ZHJO-seKOKhd",
        "outputId": "97bcf8b6-a7e5-40e1-8037-c12a75269958"
      },
      "source": [
        "lpar= [80, 88, 58, 76, 90, 14, 70, 26, 26, 4, 48, 84, 88, 88, 56, 72, 78]\n",
        "limpar= [1, 83, 55, 91, 63, 73, 75, 11, 71, 41, 13, 79, 59, 75, 85, 49, 53, 49, 75, 83, 91, 9, 87]\n",
        "lpar.sort(reverse=True)\n",
        "limpar.sort()\n",
        "print(\"Lista par:\", lpar)\n",
        "print(\"Lista impar\", limpar)"
      ],
      "execution_count": 64,
      "outputs": [
        {
          "output_type": "stream",
          "text": [
            "Lista par: [90, 88, 88, 88, 84, 80, 78, 76, 72, 70, 58, 56, 48, 26, 26, 14, 4]\n",
            "Lista impar [1, 9, 11, 13, 41, 49, 49, 53, 55, 59, 63, 71, 73, 75, 75, 75, 79, 83, 83, 85, 87, 91, 91]\n"
          ],
          "name": "stdout"
        }
      ]
    },
    {
      "cell_type": "markdown",
      "metadata": {
        "id": "xAJuo2CyOeyF"
      },
      "source": [
        "* Utilizar al menos cuatro de las funciones de listas en python en la lista original de 40 elementos."
      ]
    },
    {
      "cell_type": "code",
      "metadata": {
        "colab": {
          "base_uri": "https://localhost:8080/"
        },
        "id": "zhFrmsjYOnt5",
        "outputId": "472d68c3-736a-4680-9b7e-eb66112ee36f"
      },
      "source": [
        "lista=[42, 83, 89, 3, 26, 58, 31, 62, 77, 78, 20, 36, 40, 24, 53, 95, 62, 7, 51, 88, 54, 37, 87, 86, 71, 49, 75, 74, 38, 98, 78, 23, 99, 61, 50, 63, 56, 18, 32, 65]\n",
        "longitud=len(lista)\n",
        "lista.reverse()\n",
        "lista.append(52)\n",
        "print(\"Longitud de la lista:\",longitud)\n",
        "print(\"Imprimir lista al reves: \",lista)\n",
        "print(\"Numero mayor de los datos:\",max(lista))\n",
        "print(\"Numero mayor de los datos:\",min(lista))"
      ],
      "execution_count": 67,
      "outputs": [
        {
          "output_type": "stream",
          "text": [
            "Longitud de la lista: 40\n",
            "Imprimir lista al reves:  [65, 32, 18, 56, 63, 50, 61, 99, 23, 78, 98, 38, 74, 75, 49, 71, 86, 87, 37, 54, 88, 51, 7, 62, 95, 53, 24, 40, 36, 20, 78, 77, 62, 31, 58, 26, 3, 89, 83, 42, 52]\n",
            "Numero mayor de los datos: 99\n",
            "Numero mayor de los datos: 3\n"
          ],
          "name": "stdout"
        }
      ]
    },
    {
      "cell_type": "markdown",
      "metadata": {
        "id": "ZD6CznTSRYfo"
      },
      "source": [
        "# **Diccionarios**\n",
        "* Crear un diccionario de 6 personas que conozcas con su primer nombre y su edad."
      ]
    },
    {
      "cell_type": "code",
      "metadata": {
        "colab": {
          "base_uri": "https://localhost:8080/"
        },
        "id": "-yUMm6q0RdLZ",
        "outputId": "19f74c87-f339-42c3-b879-3e91608b63ee"
      },
      "source": [
        "dic={'Andres':21,'Quetza':20,'Hector':20,'Mario':18,'Ana':21,'Jocelyn':21}\n",
        "print(dic)"
      ],
      "execution_count": 69,
      "outputs": [
        {
          "output_type": "stream",
          "text": [
            "{'Andres': 21, 'Quetza': 20, 'Hector': 20, 'Mario': 18, 'Ana': 21, 'Jocelyn': 21}\n"
          ],
          "name": "stdout"
        }
      ]
    },
    {
      "cell_type": "markdown",
      "metadata": {
        "id": "Nau60IN7SfM_"
      },
      "source": [
        "* Crear una lista con los valores de la edad y reacomodar la lista de menor a mayor valor."
      ]
    },
    {
      "cell_type": "code",
      "metadata": {
        "colab": {
          "base_uri": "https://localhost:8080/"
        },
        "id": "0-7_38TkSjpz",
        "outputId": "869c12f1-2cc0-4dd5-ea6c-80cb5995e656"
      },
      "source": [
        "dic={'Andres':21,'Quetza':20,'Hector':20,'Mario':18,'Ana':21,'Jocelyn':21}\n",
        "edad=[]\n",
        "for i in dic:\n",
        "    if type(dic[i]) == type(98):\n",
        "        edad.append(dic[i])\n",
        "edad.sort()\n",
        "print(\"Las edades son:\",edad)"
      ],
      "execution_count": 70,
      "outputs": [
        {
          "output_type": "stream",
          "text": [
            "Las edades son: [18, 20, 20, 21, 21, 21]\n"
          ],
          "name": "stdout"
        }
      ]
    },
    {
      "cell_type": "markdown",
      "metadata": {
        "id": "_K8b9OtpTA1F"
      },
      "source": [
        "* Usando el diccionario y un loop, imprimir solo los nombres."
      ]
    },
    {
      "cell_type": "code",
      "metadata": {
        "colab": {
          "base_uri": "https://localhost:8080/"
        },
        "id": "Mq_1g4hMTHS6",
        "outputId": "28b15350-9a46-477d-82d0-56848649ca0a"
      },
      "source": [
        "dic={'Andres':21,'Quetza':20,'Hector':20,'Mario':18,'Ana':21,'Jocelyn':21}\n",
        "nom=dic.keys()\n",
        "print(nom)"
      ],
      "execution_count": 71,
      "outputs": [
        {
          "output_type": "stream",
          "text": [
            "dict_keys(['Andres', 'Quetza', 'Hector', 'Mario', 'Ana', 'Jocelyn'])\n"
          ],
          "name": "stdout"
        }
      ]
    },
    {
      "cell_type": "markdown",
      "metadata": {
        "id": "pBhlIGWGTWeH"
      },
      "source": [
        "* Añadir dos personas nuevas a tu diccionario, incluyendo edad."
      ]
    },
    {
      "cell_type": "code",
      "metadata": {
        "colab": {
          "base_uri": "https://localhost:8080/"
        },
        "id": "Eav2-HH3TZEG",
        "outputId": "7307adb9-9402-40b3-c7fd-af6694347800"
      },
      "source": [
        "dic={'Andres':21,'Quetza':20,'Hector':20,'Mario':18,'Ana':21,'Jocelyn':21}\n",
        "dic['Federico']=21\n",
        "dic['Carlos']=20\n",
        "print(dic)"
      ],
      "execution_count": 72,
      "outputs": [
        {
          "output_type": "stream",
          "text": [
            "{'Andres': 21, 'Quetza': 20, 'Hector': 20, 'Mario': 18, 'Ana': 21, 'Jocelyn': 21, 'Federico': 21, 'Carlos': 20}\n"
          ],
          "name": "stdout"
        }
      ]
    },
    {
      "cell_type": "markdown",
      "metadata": {
        "id": "TbR8-qruTx72"
      },
      "source": [
        "# **Sets**\n",
        "* Crea un set con 100 numeros aleatorios enteros del 1 al 25."
      ]
    },
    {
      "cell_type": "code",
      "metadata": {
        "colab": {
          "base_uri": "https://localhost:8080/"
        },
        "id": "3W_k16WdUBF4",
        "outputId": "b93527a9-9ae2-4092-bea7-b0d92ea96626"
      },
      "source": [
        "def listSets(AB):\n",
        "    lis = [0] * AB\n",
        "    for i in range(AB):\n",
        "          lis[i] = random.randint(1, 25)\n",
        "    return lis\n",
        "print(\"Ingrese cuantos numeros aleatorios desea obtener\")\n",
        "AB=int(input())\n",
        "x=set(lis)\n",
        "print(x)"
      ],
      "execution_count": 89,
      "outputs": [
        {
          "output_type": "stream",
          "text": [
            "Ingrese cuantos numeros aleatorios desea obtener\n",
            "100\n",
            "{3, 7, 18, 20, 23, 24, 26, 31, 32, 36, 37, 38, 40, 42, 49, 50, 51, 53, 54, 56, 58, 61, 62, 63, 65, 71, 74, 75, 77, 78, 83, 86, 87, 88, 89, 95, 98, 99}\n"
          ],
          "name": "stdout"
        }
      ]
    },
    {
      "cell_type": "markdown",
      "metadata": {
        "id": "S-Wuv6JeVKyk"
      },
      "source": [
        "* Comprueba la longitud de tu set."
      ]
    },
    {
      "cell_type": "code",
      "metadata": {
        "colab": {
          "base_uri": "https://localhost:8080/"
        },
        "id": "7JjYMEXQVVBU",
        "outputId": "2efb1a02-f330-407c-b4ae-a022fabd1c93"
      },
      "source": [
        "import random as sete\n",
        "l=set()\n",
        "for i in range(100):\n",
        "    s=sete.randint(1,25)\n",
        "    l.add(s)\n",
        "print(\"La longitud es:\",len(l))"
      ],
      "execution_count": 77,
      "outputs": [
        {
          "output_type": "stream",
          "text": [
            "La longitud es: 24\n"
          ],
          "name": "stdout"
        }
      ]
    },
    {
      "cell_type": "markdown",
      "metadata": {
        "id": "IhX7N2joVKUS"
      },
      "source": [
        "* Crea una lista de 5 numeros aleatorios del 1 al 10 y comprueba si cada valor aparece en el set inicial."
      ]
    },
    {
      "cell_type": "code",
      "metadata": {
        "colab": {
          "base_uri": "https://localhost:8080/"
        },
        "id": "qGEfn5JoVVcK",
        "outputId": "15679429-a837-4921-f6d0-e996e4d5a5e6"
      },
      "source": [
        "lista = []\n",
        "for i in range(5):\n",
        "    lista.append(sete.randint(1,10))\n",
        "    if lista[i] in l:\n",
        "        print(\"El numero\", lista[i],\"aparece en el set.\")\n",
        "    else:\n",
        "        print(\"El numero\", lista[i],\"No aparece en el set.\")"
      ],
      "execution_count": 81,
      "outputs": [
        {
          "output_type": "stream",
          "text": [
            "El numero 4 aparece en el set.\n",
            "El numero 2 aparece en el set.\n",
            "El numero 2 aparece en el set.\n",
            "El numero 10 aparece en el set.\n",
            "El numero 1 aparece en el set.\n"
          ],
          "name": "stdout"
        }
      ]
    }
  ]
}